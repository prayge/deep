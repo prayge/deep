{
  "cells": [
    {
      "cell_type": "code",
      "execution_count": 1,
      "metadata": {},
      "outputs": [
        {
          "name": "stdout",
          "output_type": "stream",
          "text": [
            "Requirement already satisfied: pytorch-ignite in c:\\users\\samue\\.conda\\envs\\cdnn\\lib\\site-packages (0.4.9)\n",
            "Requirement already satisfied: packaging in c:\\users\\samue\\.conda\\envs\\cdnn\\lib\\site-packages (from pytorch-ignite) (21.3)\n",
            "Requirement already satisfied: torch<2,>=1.3 in c:\\users\\samue\\.conda\\envs\\cdnn\\lib\\site-packages (from pytorch-ignite) (1.11.0)\n",
            "Requirement already satisfied: typing_extensions in c:\\users\\samue\\.conda\\envs\\cdnn\\lib\\site-packages (from torch<2,>=1.3->pytorch-ignite) (4.1.1)\n",
            "Requirement already satisfied: pyparsing!=3.0.5,>=2.0.2 in c:\\users\\samue\\.conda\\envs\\cdnn\\lib\\site-packages (from packaging->pytorch-ignite) (3.0.4)\n",
            "Requirement already satisfied: nibabel in c:\\users\\samue\\.conda\\envs\\cdnn\\lib\\site-packages (3.2.2)\n",
            "Requirement already satisfied: numpy>=1.14 in c:\\users\\samue\\.conda\\envs\\cdnn\\lib\\site-packages (from nibabel) (1.22.3)\n",
            "Requirement already satisfied: setuptools in c:\\users\\samue\\.conda\\envs\\cdnn\\lib\\site-packages (from nibabel) (61.2.0)\n",
            "Requirement already satisfied: packaging>=14.3 in c:\\users\\samue\\.conda\\envs\\cdnn\\lib\\site-packages (from nibabel) (21.3)\n",
            "Requirement already satisfied: pyparsing!=3.0.5,>=2.0.2 in c:\\users\\samue\\.conda\\envs\\cdnn\\lib\\site-packages (from packaging>=14.3->nibabel) (3.0.4)\n",
            "Requirement already satisfied: scikit-image in c:\\users\\samue\\.conda\\envs\\cdnn\\lib\\site-packages (0.19.2)\n",
            "Requirement already satisfied: numpy>=1.17.0 in c:\\users\\samue\\.conda\\envs\\cdnn\\lib\\site-packages (from scikit-image) (1.22.3)\n",
            "Requirement already satisfied: scipy>=1.4.1 in c:\\users\\samue\\.conda\\envs\\cdnn\\lib\\site-packages (from scikit-image) (1.8.1)\n",
            "Requirement already satisfied: tifffile>=2019.7.26 in c:\\users\\samue\\.conda\\envs\\cdnn\\lib\\site-packages (from scikit-image) (2022.5.4)\n",
            "Requirement already satisfied: imageio>=2.4.1 in c:\\users\\samue\\.conda\\envs\\cdnn\\lib\\site-packages (from scikit-image) (2.19.3)\n",
            "Requirement already satisfied: pillow!=7.1.0,!=7.1.1,!=8.3.0,>=6.1.0 in c:\\users\\samue\\.conda\\envs\\cdnn\\lib\\site-packages (from scikit-image) (9.0.1)\n",
            "Requirement already satisfied: PyWavelets>=1.1.1 in c:\\users\\samue\\.conda\\envs\\cdnn\\lib\\site-packages (from scikit-image) (1.3.0)\n",
            "Requirement already satisfied: networkx>=2.2 in c:\\users\\samue\\.conda\\envs\\cdnn\\lib\\site-packages (from scikit-image) (2.8.2)\n",
            "Requirement already satisfied: packaging>=20.0 in c:\\users\\samue\\.conda\\envs\\cdnn\\lib\\site-packages (from scikit-image) (21.3)\n",
            "Requirement already satisfied: pyparsing!=3.0.5,>=2.0.2 in c:\\users\\samue\\.conda\\envs\\cdnn\\lib\\site-packages (from packaging>=20.0->scikit-image) (3.0.4)\n",
            "Requirement already satisfied: gdown in c:\\users\\samue\\.conda\\envs\\cdnn\\lib\\site-packages (4.4.0)\n",
            "Requirement already satisfied: six in c:\\users\\samue\\.conda\\envs\\cdnn\\lib\\site-packages (from gdown) (1.16.0)\n",
            "Requirement already satisfied: beautifulsoup4 in c:\\users\\samue\\.conda\\envs\\cdnn\\lib\\site-packages (from gdown) (4.11.1)\n",
            "Requirement already satisfied: tqdm in c:\\users\\samue\\.conda\\envs\\cdnn\\lib\\site-packages (from gdown) (4.64.0)\n",
            "Requirement already satisfied: requests[socks] in c:\\users\\samue\\.conda\\envs\\cdnn\\lib\\site-packages (from gdown) (2.27.1)\n",
            "Requirement already satisfied: filelock in c:\\users\\samue\\.conda\\envs\\cdnn\\lib\\site-packages (from gdown) (3.7.1)\n",
            "Requirement already satisfied: soupsieve>1.2 in c:\\users\\samue\\.conda\\envs\\cdnn\\lib\\site-packages (from beautifulsoup4->gdown) (2.3.2.post1)\n",
            "Requirement already satisfied: charset-normalizer~=2.0.0 in c:\\users\\samue\\.conda\\envs\\cdnn\\lib\\site-packages (from requests[socks]->gdown) (2.0.4)\n",
            "Requirement already satisfied: certifi>=2017.4.17 in c:\\users\\samue\\.conda\\envs\\cdnn\\lib\\site-packages (from requests[socks]->gdown) (2022.5.18.1)\n",
            "Requirement already satisfied: idna<4,>=2.5 in c:\\users\\samue\\.conda\\envs\\cdnn\\lib\\site-packages (from requests[socks]->gdown) (3.3)\n",
            "Requirement already satisfied: urllib3<1.27,>=1.21.1 in c:\\users\\samue\\.conda\\envs\\cdnn\\lib\\site-packages (from requests[socks]->gdown) (1.26.9)\n",
            "Requirement already satisfied: PySocks!=1.5.7,>=1.5.6 in c:\\users\\samue\\.conda\\envs\\cdnn\\lib\\site-packages (from requests[socks]->gdown) (1.7.1)\n",
            "Requirement already satisfied: colorama in c:\\users\\samue\\.conda\\envs\\cdnn\\lib\\site-packages (from tqdm->gdown) (0.4.4)\n",
            "Requirement already satisfied: pandas in c:\\users\\samue\\.conda\\envs\\cdnn\\lib\\site-packages (1.4.2)\n",
            "Requirement already satisfied: pytz>=2020.1 in c:\\users\\samue\\.conda\\envs\\cdnn\\lib\\site-packages (from pandas) (2022.1)\n",
            "Requirement already satisfied: numpy>=1.18.5 in c:\\users\\samue\\.conda\\envs\\cdnn\\lib\\site-packages (from pandas) (1.22.3)\n",
            "Requirement already satisfied: python-dateutil>=2.8.1 in c:\\users\\samue\\.conda\\envs\\cdnn\\lib\\site-packages (from pandas) (2.8.2)\n",
            "Requirement already satisfied: six>=1.5 in c:\\users\\samue\\.conda\\envs\\cdnn\\lib\\site-packages (from python-dateutil>=2.8.1->pandas) (1.16.0)\n",
            "Requirement already satisfied: transformers in c:\\users\\samue\\.conda\\envs\\cdnn\\lib\\site-packages (4.19.2)\n",
            "Requirement already satisfied: tqdm>=4.27 in c:\\users\\samue\\.conda\\envs\\cdnn\\lib\\site-packages (from transformers) (4.64.0)\n",
            "Requirement already satisfied: huggingface-hub<1.0,>=0.1.0 in c:\\users\\samue\\.conda\\envs\\cdnn\\lib\\site-packages (from transformers) (0.7.0)\n",
            "Requirement already satisfied: tokenizers!=0.11.3,<0.13,>=0.11.1 in c:\\users\\samue\\.conda\\envs\\cdnn\\lib\\site-packages (from transformers) (0.12.1)\n",
            "Requirement already satisfied: numpy>=1.17 in c:\\users\\samue\\.conda\\envs\\cdnn\\lib\\site-packages (from transformers) (1.22.3)\n",
            "Requirement already satisfied: requests in c:\\users\\samue\\.conda\\envs\\cdnn\\lib\\site-packages (from transformers) (2.27.1)\n",
            "Requirement already satisfied: pyyaml>=5.1 in c:\\users\\samue\\.conda\\envs\\cdnn\\lib\\site-packages (from transformers) (6.0)\n",
            "Requirement already satisfied: packaging>=20.0 in c:\\users\\samue\\.conda\\envs\\cdnn\\lib\\site-packages (from transformers) (21.3)\n",
            "Requirement already satisfied: regex!=2019.12.17 in c:\\users\\samue\\.conda\\envs\\cdnn\\lib\\site-packages (from transformers) (2022.4.24)\n",
            "Requirement already satisfied: filelock in c:\\users\\samue\\.conda\\envs\\cdnn\\lib\\site-packages (from transformers) (3.7.1)\n",
            "Requirement already satisfied: typing-extensions>=3.7.4.3 in c:\\users\\samue\\.conda\\envs\\cdnn\\lib\\site-packages (from huggingface-hub<1.0,>=0.1.0->transformers) (4.1.1)\n",
            "Requirement already satisfied: pyparsing!=3.0.5,>=2.0.2 in c:\\users\\samue\\.conda\\envs\\cdnn\\lib\\site-packages (from packaging>=20.0->transformers) (3.0.4)\n",
            "Requirement already satisfied: colorama in c:\\users\\samue\\.conda\\envs\\cdnn\\lib\\site-packages (from tqdm>=4.27->transformers) (0.4.4)\n",
            "Requirement already satisfied: charset-normalizer~=2.0.0 in c:\\users\\samue\\.conda\\envs\\cdnn\\lib\\site-packages (from requests->transformers) (2.0.4)\n",
            "Requirement already satisfied: certifi>=2017.4.17 in c:\\users\\samue\\.conda\\envs\\cdnn\\lib\\site-packages (from requests->transformers) (2022.5.18.1)\n",
            "Requirement already satisfied: urllib3<1.27,>=1.21.1 in c:\\users\\samue\\.conda\\envs\\cdnn\\lib\\site-packages (from requests->transformers) (1.26.9)\n",
            "Requirement already satisfied: idna<4,>=2.5 in c:\\users\\samue\\.conda\\envs\\cdnn\\lib\\site-packages (from requests->transformers) (3.3)\n"
          ]
        }
      ],
      "source": [
        "%python -c \"import monai\" || pip install -q \"monai-weekly[nibabel, tqdm]\"\n",
        "%python -c \"import matplotlib\" || pip install -q matplotlib\n",
        "%pip install pytorch-ignite\n",
        "%pip install nibabel\n",
        "%pip install scikit-image\n",
        "%pip install gdown\n",
        "%pip install pandas\n",
        "%pip install transformers\n",
        "\n",
        "%matplotlib inline"
      ]
    },
    {
      "cell_type": "code",
      "execution_count": 2,
      "metadata": {
        "colab": {
          "base_uri": "https://localhost:8080/"
        },
        "id": "ZJCLbUF_ciCV",
        "outputId": "0a22bfc9-9f35-4c1a-ed0c-911ac5999cec"
      },
      "outputs": [
        {
          "name": "stderr",
          "output_type": "stream",
          "text": [
            "c:\\Users\\samue\\.conda\\envs\\cdnn\\lib\\site-packages\\tqdm\\auto.py:22: TqdmWarning: IProgress not found. Please update jupyter and ipywidgets. See https://ipywidgets.readthedocs.io/en/stable/user_install.html\n",
            "  from .autonotebook import tqdm as notebook_tqdm\n"
          ]
        },
        {
          "name": "stdout",
          "output_type": "stream",
          "text": [
            "MONAI version: 0.8.1\n",
            "Numpy version: 1.22.3\n",
            "Pytorch version: 1.11.0\n",
            "MONAI flags: HAS_EXT = False, USE_COMPILED = False\n",
            "MONAI rev id: 71ff399a3ea07aef667b23653620a290364095b1\n",
            "\n",
            "Optional dependencies:\n",
            "Pytorch Ignite version: 0.4.9\n",
            "Nibabel version: 3.2.2\n",
            "scikit-image version: 0.19.2\n",
            "Pillow version: 9.0.1\n",
            "Tensorboard version: 2.9.0\n",
            "gdown version: 4.4.0\n",
            "TorchVision version: 0.12.0\n",
            "tqdm version: 4.64.0\n",
            "lmdb version: NOT INSTALLED or UNKNOWN VERSION.\n",
            "psutil version: NOT INSTALLED or UNKNOWN VERSION.\n",
            "pandas version: 1.4.2\n",
            "einops version: NOT INSTALLED or UNKNOWN VERSION.\n",
            "transformers version: 4.19.2\n",
            "mlflow version: NOT INSTALLED or UNKNOWN VERSION.\n",
            "\n",
            "For details about installing the optional dependencies, please visit:\n",
            "    https://docs.monai.io/en/latest/installation.html#installing-the-recommended-dependencies\n",
            "\n"
          ]
        }
      ],
      "source": [
        "\n",
        "import os\n",
        "import shutil\n",
        "import tempfile\n",
        "import time\n",
        "import matplotlib.pyplot as plt\n",
        "import numpy as np\n",
        "from monai.apps import DecathlonDataset\n",
        "from monai.config import print_config\n",
        "from monai.data import DataLoader, decollate_batch\n",
        "from monai.handlers.utils import from_engine\n",
        "from monai.losses import DiceLoss\n",
        "from monai.inferers import sliding_window_inference\n",
        "from monai.metrics import DiceMetric\n",
        "from monai.networks.nets import SegResNet\n",
        "from monai.transforms import (\n",
        "    Activations,\n",
        "    Activationsd,\n",
        "    AsDiscrete,\n",
        "    AsDiscreted,\n",
        "    Compose,\n",
        "    Invertd,\n",
        "    LoadImaged,\n",
        "    MapTransform,\n",
        "    NormalizeIntensityd,\n",
        "    Orientationd,\n",
        "    RandFlipd,\n",
        "    RandScaleIntensityd,\n",
        "    RandShiftIntensityd,\n",
        "    RandSpatialCropd,\n",
        "    Spacingd,\n",
        "    EnsureChannelFirstd,\n",
        "    EnsureTyped,\n",
        "    EnsureType,\n",
        ")\n",
        "from monai.utils import set_determinism\n",
        "import gc\n",
        "import torch\n",
        "\n",
        "print_config()"
      ]
    },
    {
      "cell_type": "code",
      "execution_count": 3,
      "metadata": {
        "colab": {
          "base_uri": "https://localhost:8080/"
        },
        "id": "A6wgor5zcltW",
        "outputId": "6545d5b5-5d78-49ab-cffd-3ba469c394bc"
      },
      "outputs": [
        {
          "name": "stdout",
          "output_type": "stream",
          "text": [
            "C:\\Users\\samue\\MONAI_DIR\n"
          ]
        }
      ],
      "source": [
        "directory = os.environ.get(\"MONAI_DIR\")\n",
        "root_dir = tempfile.mkdtemp() if directory is None else directory\n",
        "print(root_dir)"
      ]
    },
    {
      "cell_type": "code",
      "execution_count": 4,
      "metadata": {
        "colab": {
          "base_uri": "https://localhost:8080/"
        },
        "id": "U6dss6h5t-0S",
        "outputId": "68b80dd5-ea68-47b0-8aaa-033ed730fdf5"
      },
      "outputs": [
        {
          "data": {
            "text/plain": [
              "233"
            ]
          },
          "execution_count": 4,
          "metadata": {},
          "output_type": "execute_result"
        }
      ],
      "source": [
        "torch.cuda.empty_cache()\n",
        "gc.collect()"
      ]
    },
    {
      "cell_type": "code",
      "execution_count": 5,
      "metadata": {
        "id": "p0dn8yljdXgw"
      },
      "outputs": [],
      "source": [
        "class ConvertToMultiChannelForClassesd(MapTransform):\n",
        "    \"\"\"\n",
        "    Convert labels to multi channels based on brats classes:\n",
        "    label 1 is the peritumoral edema\n",
        "    label 2 is the GD-enhancing tumor\n",
        "    label 3 is the necrotic and non-enhancing tumor core\n",
        "    The possible classes are TC (Tumor core), WT (Whole tumor)\n",
        "    and ET (Enhancing tumor).\n",
        "\n",
        "    \"\"\"\n",
        "\n",
        "    def __call__(self, data):\n",
        "        d = dict(data)\n",
        "        for key in self.keys:\n",
        "            channels = []\n",
        "            \n",
        "            channels.append(np.logical_or(d[key] == 2, d[key] == 3))\n",
        "           \n",
        "            channels.append(\n",
        "                np.logical_or(\n",
        "                    np.logical_or(d[key] == 2, d[key] == 3), d[key] == 1\n",
        "                )\n",
        "            )\n",
        "            \n",
        "            channels.append(d[key] == 2)\n",
        "            d[key] = np.stack(channels, axis=0).astype(np.float32)\n",
        "        return d"
      ]
    },
    {
      "cell_type": "code",
      "execution_count": 6,
      "metadata": {
        "id": "2ZI4vu8adqbf"
      },
      "outputs": [],
      "source": [
        "train_transform = Compose(\n",
        "    [\n",
        "        # load 4 Nifti images and stack them together\n",
        "        LoadImaged(keys=[\"image\", \"label\"]),\n",
        "        EnsureChannelFirstd(keys=\"image\"),\n",
        "        ConvertToMultiChannelForClassesd(keys=\"label\"),\n",
        "        Orientationd(keys=[\"image\", \"label\"], axcodes=\"RAS\"),\n",
        "        Spacingd(\n",
        "            keys=[\"image\", \"label\"],\n",
        "            pixdim=(1.0, 1.0, 1.0),\n",
        "            mode=(\"bilinear\", \"nearest\"),\n",
        "        ),\n",
        "        RandSpatialCropd(keys=[\"image\", \"label\"], roi_size=[224, 224, 144], random_size=False),\n",
        "        RandFlipd(keys=[\"image\", \"label\"], prob=0.5, spatial_axis=0),\n",
        "        RandFlipd(keys=[\"image\", \"label\"], prob=0.5, spatial_axis=1),\n",
        "        RandFlipd(keys=[\"image\", \"label\"], prob=0.5, spatial_axis=2),\n",
        "        NormalizeIntensityd(keys=\"image\", nonzero=True, channel_wise=True),\n",
        "        RandScaleIntensityd(keys=\"image\", factors=0.1, prob=1.0),\n",
        "        RandShiftIntensityd(keys=\"image\", offsets=0.1, prob=1.0),\n",
        "        EnsureTyped(keys=[\"image\", \"label\"]),\n",
        "    ]\n",
        ")\n",
        "val_transform = Compose(\n",
        "    [\n",
        "        LoadImaged(keys=[\"image\", \"label\"]),\n",
        "        EnsureChannelFirstd(keys=\"image\"),\n",
        "        ConvertToMultiChannelForClassesd(keys=\"label\"),\n",
        "        Orientationd(keys=[\"image\", \"label\"], axcodes=\"RAS\"),\n",
        "        Spacingd(\n",
        "            keys=[\"image\", \"label\"],\n",
        "            pixdim=(1.0, 1.0, 1.0),\n",
        "            mode=(\"bilinear\", \"nearest\"),\n",
        "        ),\n",
        "        NormalizeIntensityd(keys=\"image\", nonzero=True, channel_wise=True),\n",
        "        EnsureTyped(keys=[\"image\", \"label\"]),\n",
        "    ]\n",
        ")"
      ]
    },
    {
      "cell_type": "code",
      "execution_count": 7,
      "metadata": {
        "colab": {
          "base_uri": "https://localhost:8080/"
        },
        "id": "R8V0YksydsHK",
        "outputId": "23745df1-94a0-4bd6-915f-4d3317ef623a"
      },
      "outputs": [
        {
          "name": "stdout",
          "output_type": "stream",
          "text": [
            "2022-06-01 12:16:49,864 - INFO - Verified 'Task01_BrainTumour.tar', md5: 240a19d752f0d9e9101544901065d872.\n",
            "2022-06-01 12:16:49,864 - INFO - File exists: C:\\Users\\samue\\MONAI_DIR\\Task01_BrainTumour.tar, skipped downloading.\n",
            "2022-06-01 12:16:49,865 - INFO - Non-empty folder exists in C:\\Users\\samue\\MONAI_DIR\\Task01_BrainTumour, skipped extracting.\n"
          ]
        }
      ],
      "source": [
        "# here we don't cache any data in case out of memory issue\n",
        "train_ds = DecathlonDataset(\n",
        "    root_dir=root_dir,\n",
        "    task=\"Task01_BrainTumour\",\n",
        "    transform=train_transform,\n",
        "    section=\"training\",\n",
        "    download=True,\n",
        "    cache_rate=0.0,\n",
        "    num_workers=2,\n",
        ")\n",
        "train_loader = DataLoader(train_ds, batch_size=2, shuffle=True, num_workers=2)\n",
        "val_ds = DecathlonDataset(\n",
        "    root_dir=root_dir,\n",
        "    task=\"Task01_BrainTumour\",\n",
        "    transform=val_transform,\n",
        "    section=\"validation\",\n",
        "    download=False,\n",
        "    cache_rate=0.0,\n",
        "    num_workers=2,\n",
        ")\n",
        "val_loader = DataLoader(val_ds, batch_size=2, shuffle=False, num_workers=2)"
      ]
    },
    {
      "cell_type": "code",
      "execution_count": 8,
      "metadata": {},
      "outputs": [
        {
          "data": {
            "text/plain": [
              "torch.Size([4, 240, 240, 155])"
            ]
          },
          "execution_count": 8,
          "metadata": {},
          "output_type": "execute_result"
        }
      ],
      "source": [
        "val_data_example = val_ds[2]\n",
        "val_data_example[\"image\"].shape"
      ]
    }
  ],
  "metadata": {
    "accelerator": "GPU",
    "colab": {
      "collapsed_sections": [],
      "machine_shape": "hm",
      "name": "braintest.ipynb",
      "provenance": []
    },
    "interpreter": {
      "hash": "6a57817e21ccdb11dbbd137a893031cffe177059cb194ad2f5ed401c62986600"
    },
    "kernelspec": {
      "display_name": "Python 3.9.12 ('cdnn')",
      "language": "python",
      "name": "python3"
    },
    "language_info": {
      "codemirror_mode": {
        "name": "ipython",
        "version": 3
      },
      "file_extension": ".py",
      "mimetype": "text/x-python",
      "name": "python",
      "nbconvert_exporter": "python",
      "pygments_lexer": "ipython3",
      "version": "3.9.12"
    }
  },
  "nbformat": 4,
  "nbformat_minor": 0
}
